{
 "cells": [
  {
   "cell_type": "markdown",
   "id": "e8786483",
   "metadata": {},
   "source": [
    "# Snowpark Traveling Salesman Problem"
   ]
  },
  {
   "cell_type": "code",
   "execution_count": null,
   "id": "e47f9e2d",
   "metadata": {},
   "outputs": [],
   "source": [
    "# Snowpark Imports\n",
    "import json\n",
    "from decimal import Decimal\n",
    "from snowflake.snowpark.session import Session\n",
    "import snowflake.snowpark.functions as F\n",
    "import snowflake.snowpark.types as T\n",
    "\n",
    "#\n",
    "import pandas as pd\n",
    "import networkx as nx\n",
    "import itertools\n",
    "from typing import Iterable, Tuple\n",
    "import matplotlib.pyplot as plt\n",
    "\n",
    "# Reading Snowflake Connection Details from JSON file\n",
    "snowflake_connection_cfg = open('../creds.json')\n",
    "snowflake_connection_cfg = snowflake_connection_cfg.read()\n",
    "snowflake_connection_cfg = json.loads(snowflake_connection_cfg)\n",
    "\n",
    "# Creating Snowpark Session\n",
    "session = Session.builder.configs(snowflake_connection_cfg).create()\n",
    "print('Current Database:', session.get_current_database())\n",
    "print('Current Schema:', session.get_current_schema())\n",
    "print('Current Warehouse:', session.get_current_warehouse())"
   ]
  },
  {
   "cell_type": "markdown",
   "id": "0a978e95",
   "metadata": {},
   "source": [
    "### Traveling Salesman Problem with NetworkX (Locally)"
   ]
  },
  {
   "cell_type": "code",
   "execution_count": null,
   "id": "19af680c",
   "metadata": {},
   "outputs": [],
   "source": [
    "# Creating a Graph\n",
    "graph = nx.Graph()\n",
    "graph.add_edge('A','B', weight=1)\n",
    "graph.add_edge('A','H', weight=1)\n",
    "graph.add_edge('B','C', weight=1)\n",
    "graph.add_edge('C','D', weight=3)\n",
    "graph.add_edge('D','E', weight=1)\n",
    "graph.add_edge('E','F', weight=5) # -> this heavy-weight path should be excluded by the algorithm\n",
    "graph.add_edge('F','G', weight=1)\n",
    "graph.add_edge('G','H', weight=1)\n",
    "\n",
    "# Running the traveling salesman problem algorithm\n",
    "tsp = nx.approximation.traveling_salesman_problem\n",
    "# path = tsp(graph, nodes=['C', 'F'], cycle=False) # shortes route from node C to node F\n",
    "path = tsp(graph, nodes=['A','B','C','D','E','F','G','H'], cycle=False,) # shortest route between all nodes\n",
    "path_edges = list(zip(path,path[1:]))\n",
    "\n",
    "# Function to construct list of tuples as return\n",
    "def ret_tuples(graph,res):\n",
    "    path_edges = list(zip(res,res[1:]))\n",
    "    path_edges = [val+(graph.get_edge_data(val[0],val[1])['weight'],) for val in path_edges]\n",
    "    return path_edges\n",
    "\n",
    "ret_tuples(graph, path)"
   ]
  },
  {
   "cell_type": "code",
   "execution_count": null,
   "id": "3d780aec",
   "metadata": {},
   "outputs": [],
   "source": [
    "# Visualize Graph\n",
    "pos = nx.spring_layout(graph)\n",
    "plt.figure(figsize=(12,6))\n",
    "nx.draw(\n",
    "    graph, pos, edge_color='black', width=1, linewidths=1,\n",
    "    node_size=500, node_color='yellow', alpha=0.9,\n",
    "    labels={node: node for node in graph.nodes()}\n",
    ")\n",
    "# Drawing Shortes Route\n",
    "nx.draw_networkx_nodes(graph,pos,nodelist=path,node_color='r')\n",
    "nx.draw_networkx_edges(graph,pos,edgelist=path_edges,edge_color='r',width=10)\n",
    "\n",
    "# Drawing Edge Labels\n",
    "edge_labels = dict([((n1, n2), graph.get_edge_data(n1,n2)['weight'])\n",
    "                    for n1, n2 in graph.edges])\n",
    "nx.draw_networkx_edge_labels(\n",
    "    graph, pos,\n",
    "    edge_labels=edge_labels,\n",
    "    font_color='blue'\n",
    ")"
   ]
  },
  {
   "cell_type": "markdown",
   "id": "b8840e3c",
   "metadata": {},
   "source": [
    "# Creating a Snowflake User-Defined-Table-Function (UDTF)"
   ]
  },
  {
   "cell_type": "code",
   "execution_count": null,
   "id": "a4092ed7",
   "metadata": {},
   "outputs": [],
   "source": [
    "# Define class for UDTF\n",
    "class TravelingSalesmanProblem:\n",
    "    def __init__(self):\n",
    "        self.graph = nx.Graph()\n",
    "        \n",
    "    # In each iteration we are adding edges to our graph\n",
    "    def process(self, left: str, right: str, weight: int, nodes: list) -> Iterable[Tuple[str, str, int]]:\n",
    "        self.graph.add_edge(left, right, weight=weight)\n",
    "        self.nodes = nodes\n",
    "        return None\n",
    "        \n",
    "    # After the graph is built completely we are running the TSP algorithm\n",
    "    def end_partition(self):\n",
    "        tsp = nx.approximation.traveling_salesman_problem\n",
    "        path = tsp(self.graph, nodes=self.nodes, cycle=True)\n",
    "        res = self.ret_tuples(path)\n",
    "        return res\n",
    "    \n",
    "    # We are returning a list of tuples as a result\n",
    "    def ret_tuples(self,res):\n",
    "        path_edges = list(zip(res,res[1:]))\n",
    "        path_edges = [val+(self.graph.get_edge_data(val[0],val[1])['weight'],) for val in path_edges]\n",
    "        return path_edges"
   ]
  },
  {
   "cell_type": "code",
   "execution_count": null,
   "id": "31441f1f",
   "metadata": {},
   "outputs": [],
   "source": [
    "# Register UDTF\n",
    "# We have to include NetworkX as import\n",
    "# Also, NetworkX requires Numpy\n",
    "tsp_udtf = session.udtf.register(TravelingSalesmanProblem, [\"SRC\", \"DST\", \"DISTANCE\"], \n",
    "                                 name='tsp', \n",
    "                                 is_permanent=True, \n",
    "                                 stage_location='@MY_FUNCTIONS', \n",
    "                                 replace=True, \n",
    "                                 packages=['numpy'],\n",
    "                                 imports=['/opt/conda/envs/pysnowpark/lib/python3.8/site-packages/networkx/'])"
   ]
  },
  {
   "cell_type": "code",
   "execution_count": null,
   "id": "0758875e",
   "metadata": {},
   "outputs": [],
   "source": [
    "# Generate some Testdata\n",
    "data = [\n",
    "    ['GROUP1','A','B', 1],\n",
    "    ['GROUP1','A','H', 1],\n",
    "    ['GROUP1','B','C', 1],\n",
    "    ['GROUP1','C','D', 3],\n",
    "    ['GROUP1','D','E', 1],\n",
    "    ['GROUP1','E','F', 5],\n",
    "    ['GROUP1','F','G', 1],\n",
    "    ['GROUP1','G','H', 1],\n",
    "]\n",
    "data = pd.DataFrame(data, columns=['GROUP', 'LEFT', 'RIGHT', 'DISTANCE_LEFT_RIGHT'])\n",
    "session.sql('DROP TABLE IF EXISTS TSP_TESTDATA').collect()\n",
    "session.write_pandas(data, 'TSP_TESTDATA', auto_create_table=True)\n",
    "df = session.table('TSP_TESTDATA')\n",
    "df.show()"
   ]
  },
  {
   "cell_type": "code",
   "execution_count": null,
   "id": "bf58b831",
   "metadata": {},
   "outputs": [],
   "source": [
    "# Generate some Testdata\n",
    "data = [\n",
    "    ['GROUP1','A','B', 1],\n",
    "    ['GROUP1','A','H', 1],\n",
    "    ['GROUP1','B','C', 1],\n",
    "    ['GROUP1','C','D', 3],\n",
    "    ['GROUP1','D','E', 1],\n",
    "    ['GROUP1','E','F', 5],\n",
    "    ['GROUP1','F','G', 1],\n",
    "    ['GROUP1','G','H', 1],\n",
    "]\n",
    "df = session.create_dataframe(data, schema=['GROUP','LEFT','RIGHT','DISTANCE_LEFT_RIGHT'])\n",
    "df.show()"
   ]
  },
  {
   "cell_type": "code",
   "execution_count": null,
   "id": "0ac75ac1",
   "metadata": {},
   "outputs": [],
   "source": [
    "# Calling our UDTF\n",
    "tsp_result = df.join_table_function(tsp_udtf(df['LEFT'], \n",
    "                                             df['RIGHT'],\n",
    "                                             df['DISTANCE_LEFT_RIGHT'], \n",
    "                                             F.array_construct(F.lit('A'),F.lit('D'))).over(partition_by=\"GROUP\", order_by=\"GROUP\"))\n",
    "tsp_result.select('GROUP','SRC','DST','DISTANCE').show()"
   ]
  },
  {
   "cell_type": "markdown",
   "id": "88b52861",
   "metadata": {},
   "source": [
    "### (Real) World Example: Beergarden Route Optimization\n",
    "Let's try a real world example!<br>\n",
    "Munich has a lot of places where you can enjoy a cold beer but my time is limited.<br>\n",
    "Therefore I'd like to get the shortest route that visits all the places and starts/ends from Munich's main station."
   ]
  },
  {
   "cell_type": "code",
   "execution_count": null,
   "id": "27f9adc0",
   "metadata": {},
   "outputs": [],
   "source": [
    "import requests\n",
    "import urllib.parse\n",
    "from geojson import Point\n",
    "\n",
    "# Getting LAT/LON from openstreetmap\n",
    "def get_point(address):\n",
    "    url = 'https://nominatim.openstreetmap.org/search/' + urllib.parse.quote(address) +'?format=json'\n",
    "    response = requests.get(url).json()\n",
    "    return Point([float(response[0][\"lat\"]), float(response[0][\"lon\"])])\n",
    "\n",
    "# List of locations\n",
    "data = [\n",
    "    ['Munich Main Station','Munich Central Station, 81925, Munich'],\n",
    "    ['Augustiner-Keller','Arnulfstraße 52, 80335, Munich'],\n",
    "    ['Chinesischer Turm','Englischer Garten 3 80538, 80538, Munich'],\n",
    "    ['Seehaus im Englischen Garten','Kleinhesselohe 3, 80802, Munich'],\n",
    "    ['Hirschgarten','Hirschgarten 1, 80639, Munich'],\n",
    "    ['Hofbräuhaus','Platzl 9, 80331, Munich'],\n",
    "    ['Paulaner am Nockherberg','Hochstraße 77, 81541, Munich'],\n",
    "    ['Paulaner Bräuhaus','Kapuzinerpl. 5, 80337, Munich']\n",
    "]\n",
    "data = pd.DataFrame(data, columns=['DESCRIPTION','ADDRESS'])\n",
    "data['POINT'] = data.apply(lambda row: get_point(row['ADDRESS']), axis='columns')\n",
    "data"
   ]
  },
  {
   "cell_type": "code",
   "execution_count": null,
   "id": "88b576c8",
   "metadata": {},
   "outputs": [],
   "source": [
    "# Create our dataframe with beergardens\n",
    "df = session.create_dataframe(data, schema=['DESCRIPTION','ADDRESS','POINT'])\n",
    "# Transform coordinates to geography data type for distance calculation\n",
    "df = df.with_column('POINT', F.to_geography('POINT'))\n",
    "df.toPandas()"
   ]
  },
  {
   "cell_type": "code",
   "execution_count": null,
   "id": "a5539159",
   "metadata": {},
   "outputs": [],
   "source": [
    "# Get all locations\n",
    "locations = df.select('DESCRIPTION').collect()\n",
    "\n",
    "# Loop through all locations and perform cross-joins to retrieve all possible edges\n",
    "def get_all_edges(locations, df):\n",
    "    df_locations = None\n",
    "    for location in locations:\n",
    "        if df_locations == None:\n",
    "            # First Location\n",
    "            df_locations = df.select(F.col('DESCRIPTION').as_(\"START\"), F.col('POINT').as_('POINT1'))\n",
    "        else:\n",
    "            # Other Locations\n",
    "            df_locations = df.cross_join(df.select(F.col('DESCRIPTION').as_(\"END\"), F.col('POINT').as_('POINT2')))\n",
    "    df_locations = df_locations.select(F.col('DESCRIPTION').as_('START'), 'POINT', 'END', 'POINT2')\n",
    "    # Remove edges where start and end are the same\n",
    "    df_locations = df_locations.filter(F.col('START') != F.col('END'))\n",
    "    return df_locations\n",
    "res = get_all_edges(locations, df)\n",
    "# Calculate the distances with builtin function\n",
    "res = res.with_column('DISTANCE_POINT1_POINT2', F.call_builtin('ST_DISTANCE', F.col('POINT'), F.col('POINT2')))\n",
    "res = res.with_column('GROUP', F.lit('GROUP1'))\n",
    "res.toPandas()"
   ]
  },
  {
   "cell_type": "code",
   "execution_count": null,
   "id": "4569eab4",
   "metadata": {},
   "outputs": [],
   "source": [
    "# get all locations in list (first value will be start+end a.k.a circle back home)\n",
    "locs = [F.lit(val[0]) for val in locations]\n",
    "print('Start and End will be:', locations[0][0])\n",
    "\n",
    "# get the shortest route\n",
    "tsp_result = res.join_table_function(tsp_udtf(res[\"START\"], \n",
    "                                             res['END'], \n",
    "                                             F.to_decimal(res['DISTANCE_POINT1_POINT2'], 38, 0), \n",
    "                                             F.array_construct(*locs)).over(partition_by=\"GROUP\", order_by=\"GROUP\"))\n",
    "tsp_result = tsp_result.select('GROUP','SRC','DST','DISTANCE')\n",
    "tsp_result.toPandas()"
   ]
  },
  {
   "cell_type": "code",
   "execution_count": null,
   "id": "6227f422",
   "metadata": {},
   "outputs": [],
   "source": [
    "# Total Distance\n",
    "tsp_result.select(F.sum('DISTANCE').as_('TOTAL_DISTANCE')).toPandas()"
   ]
  },
  {
   "cell_type": "code",
   "execution_count": null,
   "id": "27905f41",
   "metadata": {},
   "outputs": [],
   "source": [
    "# Add addresses and points back to our results\n",
    "# Left-side (SRC)\n",
    "finals = tsp_result.join(df, tsp_result.SRC == df.DESCRIPTION)\n",
    "finals = finals.with_column_renamed(F.col(\"POINT\"), \"POINT1\")\n",
    "finals = finals.with_column_renamed(F.col(\"ADDRESS\"), \"ADDRESS1\")\n",
    "finals = finals.drop('DESCRIPTION')\n",
    "# Right-side (DST)\n",
    "finals = finals.join(df, finals.DST == df.DESCRIPTION)\n",
    "finals = finals.with_column_renamed(F.col(\"POINT\"), \"POINT2\")\n",
    "finals = finals.with_column_renamed(F.col(\"ADDRESS\"), \"ADDRESS2\")\n",
    "finals = finals.drop('DESCRIPTION')\n",
    "finals.toPandas()"
   ]
  },
  {
   "cell_type": "code",
   "execution_count": null,
   "id": "17efde3a",
   "metadata": {},
   "outputs": [],
   "source": [
    "# Visualize data using Google Maps\n",
    "# Note: Keep in mind that we optimized using ST_DISTANCE which returns the \n",
    "# geodesic distance, NOT the real distance using roads.\n",
    "import gmaps\n",
    "\n",
    "# Setup API\n",
    "# https://developers.google.com/maps/documentation/embed/get-api-key -> 200$/Month free usage\n",
    "api_key = 'AIz....'\n",
    "gmaps.configure(api_key=api_key)\n",
    "\n",
    "# Get data to plot (gmaps expects tuples of (lat/lon))\n",
    "# Transform Points to Lat/Lon\n",
    "route = finals.select(F.call_builtin('ST_X', F.col('POINT1')).as_('LAT'),\n",
    "                      F.call_builtin('ST_Y', F.col('POINT1')).as_('LON')).toPandas()\n",
    "route\n",
    "\n",
    "# Generate tuples\n",
    "records = list(route.to_records(index=False))\n",
    "start = records[0]\n",
    "end = (start[0], start[1] - 0.001) # easier to visualize with slightly different start/end point\n",
    "waypoints = records[1:]\n",
    "\n",
    "# Plot the data\n",
    "fig = gmaps.figure(map_type='SATELLITE')\n",
    "beergarden_route = gmaps.directions_layer(\n",
    "    start, end, waypoints=waypoints,\n",
    "    travel_mode='WALKING', stroke_opacity=1)\n",
    "fig.add_layer(beergarden_route)\n",
    "fig"
   ]
  }
 ],
 "metadata": {
  "kernelspec": {
   "display_name": "Python 3 (ipykernel)",
   "language": "python",
   "name": "python3"
  },
  "language_info": {
   "codemirror_mode": {
    "name": "ipython",
    "version": 3
   },
   "file_extension": ".py",
   "mimetype": "text/x-python",
   "name": "python",
   "nbconvert_exporter": "python",
   "pygments_lexer": "ipython3",
   "version": "3.8.13"
  }
 },
 "nbformat": 4,
 "nbformat_minor": 5
}
